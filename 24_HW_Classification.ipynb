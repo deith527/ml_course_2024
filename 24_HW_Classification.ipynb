{
 "cells": [
  {
   "cell_type": "markdown",
   "metadata": {},
   "source": [
    "# Классификация - и снова в бой!\n"
   ]
  },
  {
   "cell_type": "markdown",
   "metadata": {},
   "source": [
    "Сегодня мы поговорим о том, чему же мы научились за последние практики?\n",
    "\n",
    "Мы освоили основные методы работы как с данными, на основе которых можно решить задачу классификации, так и с моделями, которые это делают! Щикарррно!\n",
    "\n",
    "Сегодняшняя задачка как всегда несложная, но очень важная - нам предстоит предсказывать болезни сердца!\n",
    "\n",
    "В вашем распоряжении датасет [Heart Disease UCI](https://www.kaggle.com/datasets/cherngs/heart-disease-cleveland-uci). Ваша задача предсказать, есть ли у человека заболевание сердца или нет.\n",
    "\n",
    "Как всегда, ждем от вас полноценного анализа исходных данных, необходимой предобработки, feature engineering и поиск лучшего варианта, который даст наибольшую метрику!\n",
    "\n",
    "* Задача под звездочкой. Попробуйте реализовать такую систему, которая реже пропускает больных пациентов - мы ведь не хотим больным людям говорить, что они здоровы, хотя это не так?\n",
    "\n",
    "Мы желаем вам удачи - постарайтесь применить все накопленные знания и, может, чуть больше! Успехов!"
   ]
  },
  {
   "cell_type": "code",
   "execution_count": 23,
   "metadata": {},
   "outputs": [],
   "source": [
    "import pandas as pd\n",
    "import numpy as np\n",
    "import seaborn as sns\n",
    "import matplotlib.pyplot as plt\n",
    "from sklearn.model_selection import train_test_split\n",
    "from sklearn.preprocessing import StandardScaler\n",
    "from sklearn.ensemble import RandomForestClassifier\n",
    "from sklearn.metrics import classification_report, roc_auc_score, confusion_matrix, accuracy_score\n",
    "from sklearn.linear_model import LogisticRegression"
   ]
  },
  {
   "cell_type": "code",
   "execution_count": 24,
   "metadata": {},
   "outputs": [
    {
     "name": "stdout",
     "output_type": "stream",
     "text": [
      "<class 'pandas.core.frame.DataFrame'>\n",
      "Index: 297 entries, 69 to 35\n",
      "Data columns (total 13 columns):\n",
      " #   Column     Non-Null Count  Dtype  \n",
      "---  ------     --------------  -----  \n",
      " 0   sex        297 non-null    int64  \n",
      " 1   cp         297 non-null    int64  \n",
      " 2   trestbps   297 non-null    int64  \n",
      " 3   chol       297 non-null    int64  \n",
      " 4   fbs        297 non-null    int64  \n",
      " 5   restecg    297 non-null    int64  \n",
      " 6   thalach    297 non-null    int64  \n",
      " 7   exang      297 non-null    int64  \n",
      " 8   oldpeak    297 non-null    float64\n",
      " 9   slope      297 non-null    int64  \n",
      " 10  ca         297 non-null    int64  \n",
      " 11  thal       297 non-null    int64  \n",
      " 12  condition  297 non-null    int64  \n",
      "dtypes: float64(1), int64(12)\n",
      "memory usage: 32.5 KB\n",
      "<class 'pandas.core.frame.DataFrame'>\n",
      "Index: 297 entries, 69 to 35\n",
      "Data columns (total 13 columns):\n",
      " #   Column     Non-Null Count  Dtype  \n",
      "---  ------     --------------  -----  \n",
      " 0   sex        297 non-null    int64  \n",
      " 1   cp         297 non-null    int64  \n",
      " 2   trestbps   297 non-null    int64  \n",
      " 3   chol       297 non-null    int64  \n",
      " 4   fbs        297 non-null    int64  \n",
      " 5   restecg    297 non-null    int64  \n",
      " 6   thalach    297 non-null    int64  \n",
      " 7   exang      297 non-null    int64  \n",
      " 8   oldpeak    297 non-null    float64\n",
      " 9   slope      297 non-null    int64  \n",
      " 10  ca         297 non-null    int64  \n",
      " 11  thal       297 non-null    int64  \n",
      " 12  condition  297 non-null    int64  \n",
      "dtypes: float64(1), int64(12)\n",
      "memory usage: 32.5 KB\n",
      "None\n",
      "              sex          cp    trestbps        chol         fbs     restecg  \\\n",
      "count  297.000000  297.000000  297.000000  297.000000  297.000000  297.000000   \n",
      "mean     0.676768    2.158249  131.693603  247.350168    0.144781    0.996633   \n",
      "std      0.468500    0.964859   17.762806   51.997583    0.352474    0.994914   \n",
      "min      0.000000    0.000000   94.000000  126.000000    0.000000    0.000000   \n",
      "25%      0.000000    2.000000  120.000000  211.000000    0.000000    0.000000   \n",
      "50%      1.000000    2.000000  130.000000  243.000000    0.000000    1.000000   \n",
      "75%      1.000000    3.000000  140.000000  276.000000    0.000000    2.000000   \n",
      "max      1.000000    3.000000  200.000000  564.000000    1.000000    2.000000   \n",
      "\n",
      "          thalach       exang     oldpeak       slope          ca        thal  \\\n",
      "count  297.000000  297.000000  297.000000  297.000000  297.000000  297.000000   \n",
      "mean   149.599327    0.326599    1.055556    0.602694    0.676768    0.835017   \n",
      "std     22.941562    0.469761    1.166123    0.618187    0.938965    0.956690   \n",
      "min     71.000000    0.000000    0.000000    0.000000    0.000000    0.000000   \n",
      "25%    133.000000    0.000000    0.000000    0.000000    0.000000    0.000000   \n",
      "50%    153.000000    0.000000    0.800000    1.000000    0.000000    0.000000   \n",
      "75%    166.000000    1.000000    1.600000    1.000000    1.000000    2.000000   \n",
      "max    202.000000    1.000000    6.200000    2.000000    3.000000    2.000000   \n",
      "\n",
      "        condition  \n",
      "count  297.000000  \n",
      "mean     0.461279  \n",
      "std      0.499340  \n",
      "min      0.000000  \n",
      "25%      0.000000  \n",
      "50%      0.000000  \n",
      "75%      1.000000  \n",
      "max      1.000000  \n",
      "     sex  cp  trestbps  chol  fbs  restecg  thalach  exang  oldpeak  slope  \\\n",
      "age                                                                          \n",
      "69     1   0       160   234    1        2      131      0      0.1      1   \n",
      "69     0   0       140   239    0        0      151      0      1.8      0   \n",
      "66     0   0       150   226    0        0      114      0      2.6      2   \n",
      "65     1   0       138   282    1        2      174      0      1.4      1   \n",
      "64     1   0       110   211    0        2      144      1      1.8      1   \n",
      "\n",
      "     ca  thal  condition  \n",
      "age                       \n",
      "69    1     0          0  \n",
      "69    2     0          0  \n",
      "66    0     0          0  \n",
      "65    1     0          1  \n",
      "64    0     0          0  \n"
     ]
    }
   ],
   "source": [
    "df = pd.read_csv(\"heart_cleveland_upload.csv\", index_col=0)\n",
    "df.info()\n",
    "\n",
    "print(df.info())  \n",
    "print(df.describe()) \n",
    "print(df.head())  "
   ]
  },
  {
   "cell_type": "code",
   "execution_count": 25,
   "metadata": {},
   "outputs": [
    {
     "data": {
      "text/plain": [
       "sex          0\n",
       "cp           0\n",
       "trestbps     0\n",
       "chol         0\n",
       "fbs          0\n",
       "restecg      0\n",
       "thalach      0\n",
       "exang        0\n",
       "oldpeak      0\n",
       "slope        0\n",
       "ca           0\n",
       "thal         0\n",
       "condition    0\n",
       "dtype: int64"
      ]
     },
     "execution_count": 25,
     "metadata": {},
     "output_type": "execute_result"
    }
   ],
   "source": [
    "df.isnull().sum()"
   ]
  },
  {
   "cell_type": "code",
   "execution_count": 26,
   "metadata": {},
   "outputs": [
    {
     "name": "stdout",
     "output_type": "stream",
     "text": [
      "Index(['sex', 'cp', 'trestbps', 'chol', 'fbs', 'restecg', 'thalach', 'exang',\n",
      "       'oldpeak', 'slope', 'ca', 'thal', 'condition'],\n",
      "      dtype='object')\n",
      "(237, 12)\n",
      "(60, 12)\n"
     ]
    }
   ],
   "source": [
    "df[\"sex\"] = df[\"sex\"].map({0: \"female\", 1: \"male\"}) \n",
    "df = pd.read_csv(\"heart_cleveland_upload.csv\", index_col=0)\n",
    "print(df.columns)\n",
    "X = df.drop(\"condition\", axis=1)\n",
    "y = df[\"condition\"]\n",
    "\n",
    "X_train, X_test, y_train, y_test = train_test_split(X, y, test_size=0.2, random_state=42)\n",
    "\n",
    "print(X_train.shape)\n",
    "print(X_test.shape)"
   ]
  },
  {
   "cell_type": "code",
   "execution_count": 27,
   "metadata": {},
   "outputs": [],
   "source": [
    "X = df.drop(\"condition\", axis=1)\n",
    "y = df[\"condition\"]\n",
    "X_train, X_test, y_train, y_test = train_test_split(X, y, test_size=0.2, random_state=42)"
   ]
  },
  {
   "cell_type": "code",
   "execution_count": 28,
   "metadata": {},
   "outputs": [],
   "source": [
    "scaler = StandardScaler()\n",
    "X_train_scaled = scaler.fit_transform(X_train)\n",
    "X_test_scaled = scaler.transform(X_test)"
   ]
  },
  {
   "cell_type": "code",
   "execution_count": 29,
   "metadata": {},
   "outputs": [
    {
     "name": "stdout",
     "output_type": "stream",
     "text": [
      "Accuracy: 0.7500\n",
      "Classification Report:\n",
      "               precision    recall  f1-score   support\n",
      "\n",
      "           0       0.79      0.72      0.75        32\n",
      "           1       0.71      0.79      0.75        28\n",
      "\n",
      "    accuracy                           0.75        60\n",
      "   macro avg       0.75      0.75      0.75        60\n",
      "weighted avg       0.75      0.75      0.75        60\n",
      "\n",
      "Confusion Matrix:\n",
      " [[23  9]\n",
      " [ 6 22]]\n"
     ]
    }
   ],
   "source": [
    "model = LogisticRegression()\n",
    "model.fit(X_train_scaled, y_train)\n",
    "y_pred = model.predict(X_test_scaled)\n",
    "accuracy = accuracy_score(y_test, y_pred)\n",
    "\n",
    "print(f\"Accuracy: {accuracy:.4f}\")\n",
    "print(\"Classification Report:\\n\", classification_report(y_test, y_pred))\n",
    "print(\"Confusion Matrix:\\n\", confusion_matrix(y_test, y_pred))"
   ]
  },
  {
   "cell_type": "code",
   "execution_count": 30,
   "metadata": {},
   "outputs": [
    {
     "name": "stdout",
     "output_type": "stream",
     "text": [
      "Accuracy (weighted): 0.7500\n",
      "Classification Report (weighted):\n",
      "               precision    recall  f1-score   support\n",
      "\n",
      "           0       0.81      0.69      0.75        32\n",
      "           1       0.70      0.82      0.75        28\n",
      "\n",
      "    accuracy                           0.75        60\n",
      "   macro avg       0.76      0.75      0.75        60\n",
      "weighted avg       0.76      0.75      0.75        60\n",
      "\n",
      "Confusion Matrix (weighted):\n",
      " [[22 10]\n",
      " [ 5 23]]\n"
     ]
    }
   ],
   "source": [
    "model_weighted = LogisticRegression(class_weight=\"balanced\")\n",
    "model_weighted.fit(X_train_scaled, y_train)\n",
    "y_pred_weighted = model_weighted.predict(X_test_scaled)\n",
    "accuracy_weighted = accuracy_score(y_test, y_pred_weighted)\n",
    "\n",
    "print(f\"Accuracy (weighted): {accuracy_weighted:.4f}\")\n",
    "print(\"Classification Report (weighted):\\n\", classification_report(y_test, y_pred_weighted))\n",
    "print(\"Confusion Matrix (weighted):\\n\", confusion_matrix(y_test, y_pred_weighted))"
   ]
  }
 ],
 "metadata": {
  "kernelspec": {
   "display_name": "Python 3",
   "language": "python",
   "name": "python3"
  },
  "language_info": {
   "codemirror_mode": {
    "name": "ipython",
    "version": 3
   },
   "file_extension": ".py",
   "mimetype": "text/x-python",
   "name": "python",
   "nbconvert_exporter": "python",
   "pygments_lexer": "ipython3",
   "version": "3.12.6"
  }
 },
 "nbformat": 4,
 "nbformat_minor": 2
}
